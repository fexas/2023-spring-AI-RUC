{
 "cells": [
  {
   "attachments": {},
   "cell_type": "markdown",
   "metadata": {},
   "source": [
    "# SOP生成作业\n",
    "_黎睿 2020201623_\n",
    "_2023/3/19_"
   ]
  },
  {
   "attachments": {},
   "cell_type": "markdown",
   "metadata": {},
   "source": [
    "## 注意事项\n",
    "1. 请确保对应写入docx和pdf的文件夹为空，以防止可能的读写问题\n",
    "2. pdf的生成速度相较于docx更慢，没必要等待pdf全部生成\n",
    "3. 样例已存储于pos文件夹下pdf_Ex和word_Ex两文件夹中"
   ]
  },
  {
   "attachments": {},
   "cell_type": "markdown",
   "metadata": {},
   "source": [
    "## 准备工作"
   ]
  },
  {
   "cell_type": "code",
   "execution_count": 11,
   "metadata": {},
   "outputs": [],
   "source": [
    "#下述安装包对应爬虫功能\n",
    "#!pip install requests\n",
    "#!pip install beautifulsoup4\n",
    "\n",
    "#下述安装包对应文件输出功能\n",
    "#!pip install docxtpl\n",
    "#!pip install docx2pdf\n",
    "\n",
    "#为了在jupyter notebook正常使用docx2pdf\n",
    "#!pip install pywin32"
   ]
  },
  {
   "cell_type": "code",
   "execution_count": 12,
   "metadata": {},
   "outputs": [],
   "source": [
    "#下述import对应爬虫功能\n",
    "import requests as rq\n",
    "import bs4\n",
    "import csv\n",
    "from bs4 import BeautifulSoup\n",
    "\n",
    "#下述import对应文件字符替换及输出功能\n",
    "from docxtpl import DocxTemplate\n",
    "from docx2pdf import convert\n",
    "import pandas as pd\n",
    "import os\n",
    "import win32com.client\n",
    "import time"
   ]
  },
  {
   "attachments": {},
   "cell_type": "markdown",
   "metadata": {},
   "source": [
    "## 学校爬取，简历填充及输出"
   ]
  },
  {
   "cell_type": "code",
   "execution_count": 13,
   "metadata": {},
   "outputs": [],
   "source": [
    "#爬虫\n",
    "def Sprider(url):\n",
    "\n",
    "    # 发送请求，r为页面响应\n",
    "    r = rq.get(url)\n",
    "\n",
    "    # r.text获取页面代码\n",
    "    # 使用lxml解析页面代码\n",
    "    #Ctrl+Shift+I查看页面代码,本例所需要的是table一栏下class=shorttop的<a>数据\n",
    "    soup = BeautifulSoup(r.text, 'lxml')\n",
    "    s = soup.find('table',class_ = 'shorttop')\n",
    "    content = s.find_all('a')\n",
    "    \n",
    "    #生成排名列表\n",
    "    rank_list = []\n",
    "\n",
    "    #抓取排名前31的学校\n",
    "    #因为哥伦比亚大学两个不同的部门上榜了两次，分别在第10名和第25名\n",
    "    count = 0\n",
    "    for dep in content:\n",
    "        d = {}\n",
    "        temp_text = dep.text.split(',') #数据以逗号分隔，形式Department of economics，Havard University。故分割后仅保留最后一位，以保留学校\n",
    "        d = temp_text[-1]\n",
    "        if dep.text != '':\n",
    "            rank_list.append(d)\n",
    "            count += 1\n",
    "            if count > 30:\n",
    "                break                   \n",
    "    \n",
    "    #去除重复元素\n",
    "    rank_set = set(rank_list)\n",
    "    rank_list = list(rank_set)\n",
    "    \n",
    "    return rank_list"
   ]
  },
  {
   "cell_type": "code",
   "execution_count": 18,
   "metadata": {},
   "outputs": [],
   "source": [
    "# sop--statement of purpose\n",
    "#简历文字替换及填充\n",
    "class sop:\n",
    "    def __init__(self):\n",
    "        self.url = 'https://ideas.repec.org/top/top.econdept.html'\n",
    "        self.school_list = Sprider(self.url)\n",
    "        self.department_list =  [\"economics department\", \"business school\", \"statistics department\", \"mathematics deparment\",\"school of public policy\"]\n",
    "        self.z_path = 'D:\\Library\\spring_backup\\AI\\HW' #主文件夹路径\n",
    "        self.s_path = 'D:\\Library\\spring_backup\\AI\\HW\\sop\\word' #输出文件路径\n",
    "        self.pdf_path = 'D:\\Library\\spring_backup\\AI\\HW\\sop\\pdf'\n",
    "        self.xls_path = 'D:\\Library\\spring_backup\\AI\\HW\\sop\\school_list'#输出学校列表\n",
    "\n",
    "    #输出学校列表\n",
    "    def output_school_ls(self):\n",
    "        school_ls = pd.DataFrame(self.school_list,columns=['School'])\n",
    "        school_ls.to_excel('D:/Library/spring_backup/AI/HW/sop/school_list/school_list.xlsx',index=False)\n",
    "\n",
    "    #替换及输出docx文档   \n",
    "    def output_docx(self):\n",
    "\n",
    "        tpl = DocxTemplate(self.z_path+r\"\\\\template\\\\template2.docx\") #给定模板\n",
    "\n",
    "        i = 0\n",
    "        for depart in self.department_list:\n",
    "            for school in self.school_list:\n",
    "                context = {\n",
    "                    \"institution\": school,\n",
    "                    \"department\":  depart\n",
    "                }\n",
    "                tpl = DocxTemplate(self.z_path+r\"\\\\template\\\\template2.docx\")\n",
    "                tpl.render(context)\n",
    "                tpl.save(self.s_path+r\"\\\\\"+depart+\",\"+school+\".docx\")   \n",
    "    \n",
    "    #转换文件至pdf\n",
    "    def convert2pdf(self):\n",
    "        word_path =self.s_path\n",
    "        word_to_pdf = self.pdf_path\n",
    "        for root, dirs, files in os.walk(word_path):\n",
    "            for name in files:\n",
    "                convert(word_path+\"/\"+ name, word_to_pdf+\"/\"+name.replace(\"docx\",\"pdf\"))\n",
    "                time.sleep(2) #让程序有时间把文件关掉\n"
   ]
  },
  {
   "cell_type": "code",
   "execution_count": 19,
   "metadata": {},
   "outputs": [],
   "source": [
    "#初始化\n",
    "Sop = sop()"
   ]
  },
  {
   "cell_type": "code",
   "execution_count": 20,
   "metadata": {},
   "outputs": [
    {
     "data": {
      "application/vnd.jupyter.widget-view+json": {
       "model_id": "5122abe05af442788c2d386deca025ff",
       "version_major": 2,
       "version_minor": 0
      },
      "text/plain": [
       "  0%|          | 0/1 [00:00<?, ?it/s]"
      ]
     },
     "metadata": {},
     "output_type": "display_data"
    },
    {
     "data": {
      "application/vnd.jupyter.widget-view+json": {
       "model_id": "84eca636d5f040b78cd1c75295e19e10",
       "version_major": 2,
       "version_minor": 0
      },
      "text/plain": [
       "  0%|          | 0/1 [00:00<?, ?it/s]"
      ]
     },
     "metadata": {},
     "output_type": "display_data"
    },
    {
     "data": {
      "application/vnd.jupyter.widget-view+json": {
       "model_id": "88a835fa32b64779b22d28469c2b5281",
       "version_major": 2,
       "version_minor": 0
      },
      "text/plain": [
       "  0%|          | 0/1 [00:00<?, ?it/s]"
      ]
     },
     "metadata": {},
     "output_type": "display_data"
    },
    {
     "ename": "KeyboardInterrupt",
     "evalue": "",
     "output_type": "error",
     "traceback": [
      "\u001b[1;31m---------------------------------------------------------------------------\u001b[0m",
      "\u001b[1;31mKeyboardInterrupt\u001b[0m                         Traceback (most recent call last)",
      "Cell \u001b[1;32mIn[20], line 3\u001b[0m\n\u001b[0;32m      1\u001b[0m Sop\u001b[39m.\u001b[39moutput_school_ls() \u001b[39m#输出学校列表\u001b[39;00m\n\u001b[0;32m      2\u001b[0m Sop\u001b[39m.\u001b[39moutput_docx()      \u001b[39m#替换及输出docx文档 \u001b[39;00m\n\u001b[1;32m----> 3\u001b[0m Sop\u001b[39m.\u001b[39;49mconvert2pdf()      \u001b[39m#转换文件至pdf\u001b[39;00m\n",
      "Cell \u001b[1;32mIn[18], line 40\u001b[0m, in \u001b[0;36msop.convert2pdf\u001b[1;34m(self)\u001b[0m\n\u001b[0;32m     38\u001b[0m \u001b[39mfor\u001b[39;00m root, dirs, files \u001b[39min\u001b[39;00m os\u001b[39m.\u001b[39mwalk(word_path):\n\u001b[0;32m     39\u001b[0m     \u001b[39mfor\u001b[39;00m name \u001b[39min\u001b[39;00m files:\n\u001b[1;32m---> 40\u001b[0m         convert(word_path\u001b[39m+\u001b[39;49m\u001b[39m\"\u001b[39;49m\u001b[39m/\u001b[39;49m\u001b[39m\"\u001b[39;49m\u001b[39m+\u001b[39;49m name, word_to_pdf\u001b[39m+\u001b[39;49m\u001b[39m\"\u001b[39;49m\u001b[39m/\u001b[39;49m\u001b[39m\"\u001b[39;49m\u001b[39m+\u001b[39;49mname\u001b[39m.\u001b[39;49mreplace(\u001b[39m\"\u001b[39;49m\u001b[39mdocx\u001b[39;49m\u001b[39m\"\u001b[39;49m,\u001b[39m\"\u001b[39;49m\u001b[39mpdf\u001b[39;49m\u001b[39m\"\u001b[39;49m))\n\u001b[0;32m     41\u001b[0m         time\u001b[39m.\u001b[39msleep(\u001b[39m2\u001b[39m)\n",
      "File \u001b[1;32md:\\anaconda\\lib\\site-packages\\docx2pdf\\__init__.py:106\u001b[0m, in \u001b[0;36mconvert\u001b[1;34m(input_path, output_path, keep_active)\u001b[0m\n\u001b[0;32m    104\u001b[0m     \u001b[39mreturn\u001b[39;00m macos(paths, keep_active)\n\u001b[0;32m    105\u001b[0m \u001b[39melif\u001b[39;00m sys\u001b[39m.\u001b[39mplatform \u001b[39m==\u001b[39m \u001b[39m\"\u001b[39m\u001b[39mwin32\u001b[39m\u001b[39m\"\u001b[39m:\n\u001b[1;32m--> 106\u001b[0m     \u001b[39mreturn\u001b[39;00m windows(paths, keep_active)\n\u001b[0;32m    107\u001b[0m \u001b[39melse\u001b[39;00m:\n\u001b[0;32m    108\u001b[0m     \u001b[39mraise\u001b[39;00m \u001b[39mNotImplementedError\u001b[39;00m(\n\u001b[0;32m    109\u001b[0m         \u001b[39m\"\u001b[39m\u001b[39mdocx2pdf is not implemented for linux as it requires Microsoft Word to be installed\u001b[39m\u001b[39m\"\u001b[39m\n\u001b[0;32m    110\u001b[0m     )\n",
      "File \u001b[1;32md:\\anaconda\\lib\\site-packages\\docx2pdf\\__init__.py:33\u001b[0m, in \u001b[0;36mwindows\u001b[1;34m(paths, keep_active)\u001b[0m\n\u001b[0;32m     31\u001b[0m pdf_filepath \u001b[39m=\u001b[39m Path(paths[\u001b[39m\"\u001b[39m\u001b[39moutput\u001b[39m\u001b[39m\"\u001b[39m])\u001b[39m.\u001b[39mresolve()\n\u001b[0;32m     32\u001b[0m doc \u001b[39m=\u001b[39m word\u001b[39m.\u001b[39mDocuments\u001b[39m.\u001b[39mOpen(\u001b[39mstr\u001b[39m(docx_filepath))\n\u001b[1;32m---> 33\u001b[0m doc\u001b[39m.\u001b[39;49mSaveAs(\u001b[39mstr\u001b[39;49m(pdf_filepath), FileFormat\u001b[39m=\u001b[39;49mwdFormatPDF)\n\u001b[0;32m     34\u001b[0m doc\u001b[39m.\u001b[39mClose(\u001b[39m0\u001b[39m)\n\u001b[0;32m     35\u001b[0m pbar\u001b[39m.\u001b[39mupdate(\u001b[39m1\u001b[39m)\n",
      "File \u001b[1;32m<COMObject Open>:5\u001b[0m, in \u001b[0;36mSaveAs\u001b[1;34m(self, FileName, FileFormat, LockComments, Password, AddToRecentFiles, WritePassword, ReadOnlyRecommended, EmbedTrueTypeFonts, SaveNativePictureFormat, SaveFormsData, SaveAsAOCELetter, Encoding, InsertLineBreaks, AllowSubstitutions, LineEnding, AddBiDiMarks)\u001b[0m\n",
      "\u001b[1;31mKeyboardInterrupt\u001b[0m: "
     ]
    }
   ],
   "source": [
    "Sop.output_school_ls() #输出学校列表\n",
    "Sop.output_docx()      #替换及输出docx文档 \n",
    "Sop.convert2pdf()      #转换文件至pdf"
   ]
  },
  {
   "attachments": {},
   "cell_type": "markdown",
   "metadata": {},
   "source": [
    "## 参考"
   ]
  },
  {
   "attachments": {},
   "cell_type": "markdown",
   "metadata": {},
   "source": [
    "\n",
    "-[1]: https://zhuanlan.zhihu.com/p/320314207 (python办公自动化（一）DocxTemplate批量生成word)\n",
    "-[2]:https://www.cnblogs.com/awesometang/p/11991755.html (【爬虫教程】吐血整理，最详细的爬虫入门教程~)\n",
    "-[3]:https://www.geeksforgeeks.org/python-web-scraping-tutorial/ (Python Web Scraping Tutorial)\n",
    "-[4]:https://blog.csdn.net/Xusansna/article/details/124061023 (docx2pdf转换问题)\n",
    "-[5]:https://blog.csdn.net/qq_44081582/article/details/117962462 (jupyter notebook快捷键及标记的使用)\n"
   ]
  }
 ],
 "metadata": {
  "kernelspec": {
   "display_name": "Python 3",
   "language": "python",
   "name": "python3"
  },
  "language_info": {
   "codemirror_mode": {
    "name": "ipython",
    "version": 3
   },
   "file_extension": ".py",
   "mimetype": "text/x-python",
   "name": "python",
   "nbconvert_exporter": "python",
   "pygments_lexer": "ipython3",
   "version": "3.9.16"
  },
  "orig_nbformat": 4
 },
 "nbformat": 4,
 "nbformat_minor": 2
}
