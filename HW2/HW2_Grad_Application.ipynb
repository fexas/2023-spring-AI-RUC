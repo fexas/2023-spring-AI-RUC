{
 "cells": [
  {
   "cell_type": "markdown",
   "id": "aff16843-958d-433c-8768-ac583b3446b1",
   "metadata": {},
   "source": [
    "# University Applications Letters Generator \n",
    "\n",
    "- Purpose: when we try to apply graduate schools, the statement of purpose will take us tremendous time. If we turn to the application agencies, they will charge tens of thousands of CNY. Also, the agencies always make ***mistakes***.\n",
    "\n",
    "- Work:  use python to generate 100 copies of state of purpose efficiently\n",
    "\n",
    "- Details:\n",
    "    - step1 : find a application letter template by using online\n",
    "    - step2 : replace the personal information with your own personal information to get a MS Word template (one pager)\n",
    "    - step3 : create a list of 20 universities from econ department ranking by and you only keep the university names\n",
    "    (https://ideas.repec.org/top/top.econdept.html)\n",
    "    - step4 : create a list of departments [\"economics department\", \"business school\", \"statistics department\", \"mathematics deparment\",\"school of public policy\"]\n",
    "    - step5 : Loop over the two lists aforementioned to fill the template.\n",
    "    \n",
    "    - step6 : use docxtpl to generate the MS Word document\n",
    "    \n",
    "    - step7 : use docx2pdf to generate the PDF document (only for the windows users)\n",
    "    - step8 : upload your codes and only 1 copy of PDF or WORD to ***Gitlab*** by next class   \n",
    "    \n",
    "``` python\n",
    "\"\"\"\n",
    "Dear admission committe,\n",
    "This is Lei Ge, I am pleased to apply economics deparment in the Renmin University of China\n",
    "...\n",
    "\"\"\"\n",
    "``` \n",
    "\n",
    "- TOOLS: function, loop, docxtpl, docx2pdf\n",
    "- Results: you get a 100 copies of statement of purpose"
   ]
  },
  {
   "cell_type": "code",
   "execution_count": null,
   "id": "d0152190-007a-4e7f-8ecd-afd09bccd183",
   "metadata": {},
   "outputs": [],
   "source": []
  }
 ],
 "metadata": {
  "kernelspec": {
   "display_name": "Python 3 (ipykernel)",
   "language": "python",
   "name": "python3"
  },
  "language_info": {
   "codemirror_mode": {
    "name": "ipython",
    "version": 3
   },
   "file_extension": ".py",
   "mimetype": "text/x-python",
   "name": "python",
   "nbconvert_exporter": "python",
   "pygments_lexer": "ipython3",
   "version": "3.9.13"
  }
 },
 "nbformat": 4,
 "nbformat_minor": 5
}
