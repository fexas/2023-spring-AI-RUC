{
 "cells": [
  {
   "cell_type": "code",
   "execution_count": 15,
   "metadata": {},
   "outputs": [],
   "source": [
    "# cauese the packages site is different from pycharm, append it to jupter\n",
    "import sys\n",
    "sys.path.append('/Library/Frameworks/Python.framework/Versions/3.9/lib/python3.9/site-packages')\n",
    "from docxtpl import DocxTemplate\n",
    "# the package for grasping text from website\n",
    "from selenium import webdriver\n",
    "from bs4 import BeautifulSoup\n",
    "import os\n",
    "from docx import Document\n",
    "from reportlab.pdfgen import canvas"
   ]
  },
  {
   "cell_type": "code",
   "execution_count": 11,
   "metadata": {},
   "outputs": [],
   "source": [
    "# application_letter 是模版文档\n",
    "template = DocxTemplate(\"application_letter.docx\")"
   ]
  },
  {
   "cell_type": "code",
   "execution_count": 12,
   "metadata": {},
   "outputs": [],
   "source": [
    "# 个人信息需要填进文档模版里面的部分\n",
    "Name = \"Yijin Chen\"\n",
    "Email = \"2020200893@ruc.edu.cn\"\n",
    "City = \"Beijing\"\n",
    "Address = \"59 Zhongguancun Street, Haidian District, Beijing, China\"\n",
    "Date = \"2023-3-16\""
   ]
  },
  {
   "cell_type": "code",
   "execution_count": 3,
   "metadata": {},
   "outputs": [
    {
     "name": "stdout",
     "output_type": "stream",
     "text": [
      "['Department of Economics, Harvard UniversityCambridge, Massachusetts (USA)', 'Economics Department, Massachusetts Institute of Technology (MIT)Cambridge, Massachusetts (USA)', 'Department of Economics, University of California-BerkeleyBerkeley, California (USA)', 'Department of Economics, University of ChicagoChicago, Illinois (USA)', 'Paris School of EconomicsParis, France', 'Department of Economics, Princeton UniversityPrinceton, New Jersey (USA)', 'Department of Economics, Stanford UniversityStanford, California (USA)', 'Toulouse School of Economics (TSE)Toulouse, France', 'Barcelona School of Economics (BSE)Barcelona, Spain', 'Department of Economics, School of Arts and Sciences, Columbia UniversityNew York City, New York (USA)', 'Department of Economics, Oxford UniversityOxford, United Kingdom', 'Economics Department, Yale UniversityNew Haven, Connecticut (USA)', 'Department of Economics, New York University (NYU)New York City, New York (USA)', 'Economics Department, Brown UniversityProvidence, Rhode Island (USA)', 'Department of Economics, University of PennsylvaniaPhiladelphia, Pennsylvania (USA)', 'Department of Economics, Boston UniversityBoston, Massachusetts (USA)', 'Economics Department, Dartmouth CollegeHanover, New Hampshire (USA)', 'Department of Economics, University of Southern CaliforniaLos Angeles, California (USA)', 'Department of Economics, University of California-San Diego (UCSD)La Jolla, California (USA)', 'Department of Economics, Northwestern UniversityEvanston, Illinois (USA)', 'Department of Economics, University College London (UCL)London, United Kingdom', 'Economics Department, London School of Economics (LSE)London, United Kingdom', 'Department of Economics, University of California-Los Angeles (UCLA)Los Angeles, California (USA)', 'Economics Department, University of MichiganAnn Arbor, Michigan (USA)', 'Finance and Economics Department, Graduate School of Business, Columbia UniversityNew York City, New York (USA)', 'Vancouver School of Economics, University of British ColumbiaVancouver, Canada', 'Economics Department, University of California-DavisDavis, California (USA)', 'School of Economics and Management, Universiteit van TilburgTilburg, Netherlands', 'Economics Department, University of Wisconsin-MadisonMadison, Wisconsin (USA)', 'Economics Department, Michigan State UniversityEast Lansing, Michigan (USA)']\n"
     ]
    }
   ],
   "source": [
    "# 创建一个新的Chrome浏览器\n",
    "driver = webdriver.Chrome()\n",
    "\n",
    "# 打开网站\n",
    "driver.get(\"https://ideas.repec.org/top/top.econdept.html\")\n",
    "\n",
    "# 获取页面源代码\n",
    "html = driver.page_source\n",
    "\n",
    "# 关闭浏览器\n",
    "driver.quit()\n",
    "\n",
    "# 使用BeautifulSoup来解析html并获取前30个机构的名称\n",
    "soup = BeautifulSoup(html, \"html.parser\")\n",
    "universities = []\n",
    "for row in soup.find_all('table')[1].find_all('tr')[1:31]:\n",
    "    uni = row.find_all('td')[1].text.strip()\n",
    "    universities.append(uni)\n",
    "\n",
    "print(universities)\n",
    "\n",
    "# 但由于从文档上扒下来，此时的universities包含的不只是学校，还包括学院，且每个格式不定，每个拆分起来比较困难，所以不用这个方法"
   ]
  },
  {
   "cell_type": "code",
   "execution_count": 13,
   "metadata": {},
   "outputs": [],
   "source": [
    "# Create a list of universities from the econ department ranking\n",
    "universities = [\n",
    "    \"Harvard University\",\n",
    "    \"Massachusetts Institute of Technology (MIT)\",\n",
    "    \"Princeton University\",\n",
    "    \"Stanford University\",\n",
    "    \"University of Chicago\",\n",
    "    \"Columbia University\",\n",
    "    \"New York University (NYU)\",\n",
    "    \"Northwestern University\",\n",
    "    \"University of California-Berkeley\",\n",
    "    \"Yale University\",\n",
    "    \"University of Pennsylvania\",\n",
    "    \"Duke University\",\n",
    "    \"University of California-Los Angeles (UCLA)\",\n",
    "    \"University of Michigan\",\"University of Minnesota\",\n",
    "    \"University of Wisconsin\",\n",
    "    \"University of California-San Diego (UCSD)\",\n",
    "    \"University of California-Davis\",\n",
    "    \"University of California-Irvine\",\n",
    "    \"Brown University\",\n",
    "    \"Cornell University\",\n",
    "    \"London School of Economics (LSE)\",\n",
    "    \"University College London (UCL)\",\n",
    "    \"University of Warwick\",\n",
    "    \"University of Toronto\",\n",
    "    \"University of British Columbia\",\n",
    "    \"University of Essex\",\n",
    "    \"University of Maryland\",\n",
    "    \"University of Virginia\"\n",
    "]"
   ]
  },
  {
   "cell_type": "code",
   "execution_count": 14,
   "metadata": {},
   "outputs": [],
   "source": [
    "# Create a list of departments\n",
    "departments = [\n",
    "    \"Economics department\",\n",
    "    \"Business school\",\n",
    "    \"Statistics department\",\n",
    "    \"Mathematics department\",\n",
    "    \"School of public policy\"\n",
    "]"
   ]
  },
  {
   "cell_type": "code",
   "execution_count": 16,
   "metadata": {},
   "outputs": [],
   "source": [
    "# 转换word成pdf\n",
    "def word_to_pdf(input_file, output_file):\n",
    "    doc = Document(input_file)\n",
    "    pdf = canvas.Canvas(output_file)\n",
    "\n",
    "    for paragraph in doc.paragraphs:\n",
    "        pdf.drawString(10, 810, paragraph.text)\n",
    "\n",
    "    pdf.save()"
   ]
  },
  {
   "cell_type": "code",
   "execution_count": 19,
   "metadata": {},
   "outputs": [
    {
     "name": "stdout",
     "output_type": "stream",
     "text": [
      "Done!\n"
     ]
    }
   ],
   "source": [
    "# main function 把个人信息还有学校信息填入模版生成文档\n",
    "for university in universities:\n",
    "    for department in departments:\n",
    "        context = {\n",
    "            \"University\": university,\n",
    "            \"Department\": department,\n",
    "            \"Name\": Name,\n",
    "            \"Email\": Email,\n",
    "            \"City\": City,\n",
    "            \"Address\": Address,\n",
    "            \"Date\": Date\n",
    "        }\n",
    "        template.render(context)\n",
    "        filename = f\"{university} {department}.docx\"\n",
    "        template.save(filename)\n",
    "print('Done!')"
   ]
  }
 ],
 "metadata": {
  "kernelspec": {
   "display_name": "Python 3",
   "language": "python",
   "name": "python3"
  },
  "language_info": {
   "codemirror_mode": {
    "name": "ipython",
    "version": 3
   },
   "file_extension": ".py",
   "mimetype": "text/x-python",
   "name": "python",
   "nbconvert_exporter": "python",
   "pygments_lexer": "ipython3",
   "version": "3.7.0"
  }
 },
 "nbformat": 4,
 "nbformat_minor": 2
}
