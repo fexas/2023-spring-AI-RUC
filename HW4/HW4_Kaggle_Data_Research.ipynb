{
 "cells": [
  {
   "cell_type": "markdown",
   "id": "50e43c0c-7adf-474c-b64f-08474bf8931a",
   "metadata": {},
   "source": [
    "# Homework 4: First Try of Kaggle"
   ]
  },
  {
   "cell_type": "markdown",
   "id": "119a0aff-836a-472e-bdc7-8aa0606d2163",
   "metadata": {
    "tags": []
   },
   "source": [
    "### 1.What is Kaggle?\n",
    "\n",
    "\n",
    "Kaggle, a subsidiary of Google LLC, is an online community of data scientists and machine learning practitioners. Kaggle allows users to find and publish data sets, explore and build models in a web-based data-science environment, work with other data scientists and machine learning engineers, and enter competitions to solve data science challenges.\n",
    "\n",
    "- https://www.kaggle.com/\n",
    "\n",
    "\n",
    "### 2. Why Kaggle?\n",
    "\n",
    "- Good resource for the realistic data and pratice the economic sense and data&modeling skills\n",
    "- Good hackathon for the data scientists for the bounty hunting (Some of giving you million USD )\n",
    "- Good template to use for your research projects\n",
    "- You can also use it and pratice on cloud\n",
    "\n",
    "\n",
    "### 3. Collect Data Information\n",
    "\n",
    "- go to https://www.kaggle.com/datasets\n",
    "- Browse the datasets by using keywords or random walk\n",
    "- Select one dataset, which are large enough, related to economics or finance, interesting\n",
    "\n",
    "\n",
    "### 4. Data Analysis\n",
    "\n",
    "- Choose a research topics from your dataset and put it on a ipynb report\n",
    "- Data Analysis about your dataset on the report \n",
    "\n",
    "### 5. Linear Modeling by Using statsmodels\n",
    "\n",
    "- Choose your target and features\n",
    "- Write the math regression function in LaTex on your report \n",
    "- Use [statsmodels](https://www.statsmodels.org/stable/index.html) to do the linear regression and put the regression results on your ipynb report\n",
    "\n",
    "\n",
    "### 6. Submit your individual HW to the Git\n"
   ]
  },
  {
   "cell_type": "code",
   "execution_count": null,
   "id": "af034915-92aa-46aa-b0fe-3199b9cedec4",
   "metadata": {},
   "outputs": [],
   "source": []
  }
 ],
 "metadata": {
  "kernelspec": {
   "display_name": "Python 3 (ipykernel)",
   "language": "python",
   "name": "python3"
  },
  "language_info": {
   "codemirror_mode": {
    "name": "ipython",
    "version": 3
   },
   "file_extension": ".py",
   "mimetype": "text/x-python",
   "name": "python",
   "nbconvert_exporter": "python",
   "pygments_lexer": "ipython3",
   "version": "3.9.13"
  }
 },
 "nbformat": 4,
 "nbformat_minor": 5
}
