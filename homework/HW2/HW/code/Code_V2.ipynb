{
 "cells": [
  {
   "attachments": {},
   "cell_type": "markdown",
   "metadata": {},
   "source": [
    "# SOP生成作业\n",
    "_2020201623_\n",
    "_2023/3/19_"
   ]
  },
  {
   "attachments": {},
   "cell_type": "markdown",
   "metadata": {},
   "source": [
    "## 注意事项\n",
    "1. 请确保对应写入docx和pdf的文件夹为空，以防止可能的读写问题\n",
    "2. pdf的生成速度相较于docx更慢，没必要等待pdf全部生成\n",
    "3. 样例已存储于pos文件夹下pdf_Ex和word_Ex两文件夹中"
   ]
  },
  {
   "attachments": {},
   "cell_type": "markdown",
   "metadata": {},
   "source": [
    "## 准备工作"
   ]
  },
  {
   "cell_type": "code",
   "execution_count": 1,
   "metadata": {},
   "outputs": [],
   "source": [
    "#下述安装包对应爬虫功能\n",
    "#!pip install requests\n",
    "#!pip install beautifulsoup4\n",
    "\n",
    "#下述安装包对应文件输出功能\n",
    "#!pip install docxtpl\n",
    "#!pip install docx2pdf\n",
    "\n",
    "#为了在jupyter notebook正常使用docx2pdf\n",
    "#!pip install pywin32"
   ]
  },
  {
   "cell_type": "code",
   "execution_count": 15,
   "metadata": {},
   "outputs": [],
   "source": [
    "#下述import对应爬虫功能\n",
    "import requests as rq\n",
    "import bs4\n",
    "import csv\n",
    "from bs4 import BeautifulSoup\n",
    "\n",
    "#下述import对应文件字符替换及输出功能\n",
    "from docxtpl import DocxTemplate\n",
    "from docx2pdf import convert\n",
    "import pandas as pd\n",
    "import os\n",
    "import win32com.client\n",
    "import time"
   ]
  },
  {
   "attachments": {},
   "cell_type": "markdown",
   "metadata": {},
   "source": [
    "## 学校爬取，简历填充及输出"
   ]
  },
  {
   "cell_type": "code",
   "execution_count": 3,
   "metadata": {},
   "outputs": [],
   "source": [
    "#爬虫\n",
    "def Sprider(url):\n",
    "\n",
    "    # 发送请求，r为页面响应\n",
    "    r = rq.get(url)\n",
    "\n",
    "    # r.text获取页面代码\n",
    "    # 使用lxml解析页面代码\n",
    "    #Ctrl+Shift+I查看页面代码,本例所需要的是table一栏下class=shorttop的<a>数据\n",
    "    soup = BeautifulSoup(r.text, 'lxml')\n",
    "    s = soup.find('table',class_ = 'shorttop')\n",
    "    content = s.find_all('a')\n",
    "    \n",
    "    #生成排名列表\n",
    "    rank_list = []\n",
    "\n",
    "    #抓取排名前30的学校\n",
    "    count = 0\n",
    "    for dep in content:\n",
    "        d = {}\n",
    "        temp_text = dep.text.split(',') #数据以逗号分隔，形式Department of economics，Havard University。故分割后仅保留最后一位，以保留学校\n",
    "        d = temp_text[-1]\n",
    "        if dep.text != '':\n",
    "            rank_list.append(d)\n",
    "            count += 1\n",
    "            if count >= 30:\n",
    "                break\n",
    "\n",
    "    return rank_list"
   ]
  },
  {
   "cell_type": "code",
   "execution_count": 16,
   "metadata": {},
   "outputs": [],
   "source": [
    "# sop--statement of purpose\n",
    "#简历文字替换及填充\n",
    "class sop:\n",
    "    def __init__(self):\n",
    "        self.url = 'https://ideas.repec.org/top/top.econdept.html'\n",
    "        self.school_list = Sprider(self.url)\n",
    "        self.department_list =  [\"economics department\", \"business school\", \"statistics department\", \"mathematics deparment\",\"school of public policy\"]\n",
    "        self.z_path = 'D:\\Library\\spring_backup\\AI\\HW' #主文件夹路径\n",
    "        self.s_path = 'D:\\Library\\spring_backup\\AI\\HW\\sop\\word' #输出文件路径\n",
    "        self.pdf_path = 'D:\\Library\\spring_backup\\AI\\HW\\sop\\pdf'\n",
    "    #替换及输出docx文档   \n",
    "    def output_docx(self):\n",
    "\n",
    "        tpl = DocxTemplate(self.z_path+r\"\\\\template\\\\template2.docx\") #给定模板\n",
    "\n",
    "        for depart in self.department_list:\n",
    "            for school in self.school_list:\n",
    "                context = {\n",
    "                    \"institution\": school,\n",
    "                    \"department\":  depart\n",
    "                }\n",
    "                tpl = DocxTemplate(self.z_path+r\"\\\\template\\\\template2.docx\")\n",
    "                tpl.render(context)\n",
    "                tpl.save(self.s_path+r\"\\\\\"+depart+\",\"+school+\".docx\")   \n",
    "    \n",
    "    #转换文件至pdf\n",
    "    def convert2pdf(self):\n",
    "        word_path =self.s_path\n",
    "        word_to_pdf = self.pdf_path\n",
    "        for root, dirs, files in os.walk(word_path):\n",
    "            for name in files:\n",
    "                convert(word_path+\"/\"+ name, word_to_pdf+\"/\"+name.replace(\"docx\",\"pdf\"))\n",
    "                time.sleep(2) #让程序有时间把文件关掉\n"
   ]
  },
  {
   "cell_type": "code",
   "execution_count": 17,
   "metadata": {},
   "outputs": [
    {
     "data": {
      "application/vnd.jupyter.widget-view+json": {
       "model_id": "31f1ec8ef5514a1e8df9c4504e660552",
       "version_major": 2,
       "version_minor": 0
      },
      "text/plain": [
       "  0%|          | 0/1 [00:00<?, ?it/s]"
      ]
     },
     "metadata": {},
     "output_type": "display_data"
    },
    {
     "data": {
      "application/vnd.jupyter.widget-view+json": {
       "model_id": "0f759b2ecf22425883bf4b0ac4cb4888",
       "version_major": 2,
       "version_minor": 0
      },
      "text/plain": [
       "  0%|          | 0/1 [00:00<?, ?it/s]"
      ]
     },
     "metadata": {},
     "output_type": "display_data"
    },
    {
     "data": {
      "application/vnd.jupyter.widget-view+json": {
       "model_id": "a76ccde818d64589bb1abb608ec750ac",
       "version_major": 2,
       "version_minor": 0
      },
      "text/plain": [
       "  0%|          | 0/1 [00:00<?, ?it/s]"
      ]
     },
     "metadata": {},
     "output_type": "display_data"
    },
    {
     "data": {
      "application/vnd.jupyter.widget-view+json": {
       "model_id": "f86ec34d751c4be0a94f195884131057",
       "version_major": 2,
       "version_minor": 0
      },
      "text/plain": [
       "  0%|          | 0/1 [00:00<?, ?it/s]"
      ]
     },
     "metadata": {},
     "output_type": "display_data"
    },
    {
     "ename": "KeyboardInterrupt",
     "evalue": "",
     "output_type": "error",
     "traceback": [
      "\u001b[1;31m---------------------------------------------------------------------------\u001b[0m",
      "\u001b[1;31mKeyboardInterrupt\u001b[0m                         Traceback (most recent call last)",
      "Cell \u001b[1;32mIn[17], line 3\u001b[0m\n\u001b[0;32m      1\u001b[0m Sop \u001b[39m=\u001b[39m sop()\n\u001b[0;32m      2\u001b[0m Sop\u001b[39m.\u001b[39moutput_docx()\n\u001b[1;32m----> 3\u001b[0m Sop\u001b[39m.\u001b[39;49mconvert2pdf()\n",
      "Cell \u001b[1;32mIn[16], line 32\u001b[0m, in \u001b[0;36msop.convert2pdf\u001b[1;34m(self)\u001b[0m\n\u001b[0;32m     30\u001b[0m \u001b[39mfor\u001b[39;00m name \u001b[39min\u001b[39;00m files:\n\u001b[0;32m     31\u001b[0m     convert(word_path\u001b[39m+\u001b[39m\u001b[39m\"\u001b[39m\u001b[39m/\u001b[39m\u001b[39m\"\u001b[39m\u001b[39m+\u001b[39m name, word_to_pdf\u001b[39m+\u001b[39m\u001b[39m\"\u001b[39m\u001b[39m/\u001b[39m\u001b[39m\"\u001b[39m\u001b[39m+\u001b[39mname\u001b[39m.\u001b[39mreplace(\u001b[39m\"\u001b[39m\u001b[39mdocx\u001b[39m\u001b[39m\"\u001b[39m,\u001b[39m\"\u001b[39m\u001b[39mpdf\u001b[39m\u001b[39m\"\u001b[39m))\n\u001b[1;32m---> 32\u001b[0m     time\u001b[39m.\u001b[39;49msleep(\u001b[39m2\u001b[39;49m)\n",
      "\u001b[1;31mKeyboardInterrupt\u001b[0m: "
     ]
    }
   ],
   "source": [
    "Sop = sop()\n",
    "Sop.output_docx()\n",
    "Sop.convert2pdf()"
   ]
  },
  {
   "attachments": {},
   "cell_type": "markdown",
   "metadata": {},
   "source": [
    "## 参考"
   ]
  },
  {
   "attachments": {},
   "cell_type": "markdown",
   "metadata": {},
   "source": [
    "\n",
    "-[1]: https://zhuanlan.zhihu.com/p/320314207 (python办公自动化（一）DocxTemplate批量生成word)\n",
    "-[2]:https://www.cnblogs.com/awesometang/p/11991755.html (【爬虫教程】吐血整理，最详细的爬虫入门教程~)\n",
    "-[3]:https://www.geeksforgeeks.org/python-web-scraping-tutorial/ (Python Web Scraping Tutorial)\n",
    "-[4]:https://blog.csdn.net/Xusansna/article/details/124061023 (docx2pdf转换问题)\n",
    "-[5]:https://blog.csdn.net/qq_44081582/article/details/117962462 (jupyter notebook快捷键及标记的使用)\n"
   ]
  }
 ],
 "metadata": {
  "kernelspec": {
   "display_name": "Python 3",
   "language": "python",
   "name": "python3"
  },
  "language_info": {
   "codemirror_mode": {
    "name": "ipython",
    "version": 3
   },
   "file_extension": ".py",
   "mimetype": "text/x-python",
   "name": "python",
   "nbconvert_exporter": "python",
   "pygments_lexer": "ipython3",
   "version": "3.9.16"
  },
  "orig_nbformat": 4
 },
 "nbformat": 4,
 "nbformat_minor": 2
}
